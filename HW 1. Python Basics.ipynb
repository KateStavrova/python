{
 "cells": [
  {
   "cell_type": "markdown",
   "id": "29f77912",
   "metadata": {
    "pycharm": {
     "name": "#%% md\n"
    }
   },
   "source": [
    "# Домашнє завдання до теми \"Python Basics\"\n",
    "В цьому ДЗ важливою умовою виконання завдань є те, що ми не імпортуємо жодних бібліотек, а робимо все на чистому Python, використовуючи лише базовий функціонал. Це необхідно аби відпрацювати роботу з базовими типами даних. А використовувати бібліотеки ми ще навчимось далі :)"
   ]
  },
  {
   "cell_type": "markdown",
   "id": "e5af5d1c",
   "metadata": {
    "pycharm": {
     "name": "#%% md\n"
    }
   },
   "source": [
    "## Робота з числами та арифметичними операторами"
   ]
  },
  {
   "cell_type": "markdown",
   "id": "db351ccb",
   "metadata": {
    "ExecuteTime": {
     "end_time": "2023-05-26T10:30:07.427381Z",
     "start_time": "2023-05-26T10:30:07.416247Z"
    }
   },
   "source": [
    "1.Створіть змінну, яка буде зберігати кількість яблук. І надайте їй значення 5. Виведіть значення змінної на екран."
   ]
  },
  {
   "cell_type": "code",
   "execution_count": 1,
   "id": "94ad2c15",
   "metadata": {
    "ExecuteTime": {
     "end_time": "2023-06-11T12:30:38.301312Z",
     "start_time": "2023-06-11T12:30:38.295428Z"
    }
   },
   "outputs": [],
   "source": [
    "number_of_apples = 5"
   ]
  },
  {
   "cell_type": "markdown",
   "id": "0f6fefef",
   "metadata": {},
   "source": [
    "2.Виведіть тип змінної, створеної в завданні (1)."
   ]
  },
  {
   "cell_type": "code",
   "execution_count": 2,
   "id": "435cad86",
   "metadata": {
    "ExecuteTime": {
     "end_time": "2023-06-11T12:30:46.600723Z",
     "start_time": "2023-06-11T12:30:46.586822Z"
    }
   },
   "outputs": [
    {
     "data": {
      "text/plain": [
       "5"
      ]
     },
     "execution_count": 2,
     "metadata": {},
     "output_type": "execute_result"
    }
   ],
   "source": [
    "number_of_apples"
   ]
  },
  {
   "cell_type": "markdown",
   "id": "62eb5d69",
   "metadata": {},
   "source": [
    "3.Додайте до значення змінної, створеної в завданні (1) число `12` і виведіть результат на екран з допомогою команди `print()`."
   ]
  },
  {
   "cell_type": "code",
   "execution_count": 5,
   "id": "e181a698",
   "metadata": {
    "ExecuteTime": {
     "end_time": "2023-06-11T12:32:33.193825Z",
     "start_time": "2023-06-11T12:32:33.188482Z"
    }
   },
   "outputs": [
    {
     "name": "stdout",
     "output_type": "stream",
     "text": [
      "17\n"
     ]
    }
   ],
   "source": [
    "number_of_apples = number_of_apples + 12 \n",
    "print (number_of_apples)"
   ]
  },
  {
   "cell_type": "markdown",
   "id": "ef9c9a53",
   "metadata": {
    "pycharm": {
     "name": "#%% md\n"
    }
   },
   "source": [
    "4.Створіть змінні `a`, `b`, `c` та `d`, задайте їм значення відповідно 101, 210, 111, 402, та обчисліть з допомогою Python наступний вираз:  $$ \\frac{(a+b) * c}{d} $$\n",
    "\n",
    "**Важливо**: тут ми маємо обчислити значення саме з використанням змінних, а не просто чисел, як би ми робили у калькуряторі. Змінні потрібні аби за бажання ми могли змінити їх значення та не переписувати код обчислення виразу, бо він буде працювати для різних значень змінних."
   ]
  },
  {
   "cell_type": "code",
   "execution_count": 6,
   "id": "9891fd77",
   "metadata": {
    "ExecuteTime": {
     "end_time": "2023-06-11T12:33:36.750477Z",
     "start_time": "2023-06-11T12:33:36.737373Z"
    },
    "pycharm": {
     "name": "#%%\n"
    }
   },
   "outputs": [],
   "source": [
    "a = 101 \n",
    "b = 210 \n",
    "c = 111 \n",
    "d = 402 "
   ]
  },
  {
   "cell_type": "code",
   "execution_count": 7,
   "id": "8bc499ba",
   "metadata": {
    "ExecuteTime": {
     "end_time": "2023-06-11T12:35:29.659781Z",
     "start_time": "2023-06-11T12:35:29.637808Z"
    }
   },
   "outputs": [
    {
     "data": {
      "text/plain": [
       "85.8731343283582"
      ]
     },
     "execution_count": 7,
     "metadata": {},
     "output_type": "execute_result"
    }
   ],
   "source": [
    "(a +b) * c / d"
   ]
  },
  {
   "cell_type": "markdown",
   "id": "965b744f",
   "metadata": {
    "pycharm": {
     "name": "#%% md\n"
    }
   },
   "source": [
    "Очікувана відповідь: 85.8731343283582"
   ]
  },
  {
   "cell_type": "markdown",
   "id": "63f94d5a",
   "metadata": {},
   "source": [
    "5.Якою буде остача від ділення числа 11283 на 89? Обчисліть з допомогою Python."
   ]
  },
  {
   "cell_type": "code",
   "execution_count": 9,
   "id": "38cb3c77",
   "metadata": {
    "ExecuteTime": {
     "end_time": "2023-06-11T12:39:10.557525Z",
     "start_time": "2023-06-11T12:39:10.549929Z"
    }
   },
   "outputs": [],
   "source": [
    "n1 = 11283 \n",
    "n2 = 89\n",
    "\n",
    "n3 = n1 % n2"
   ]
  },
  {
   "cell_type": "code",
   "execution_count": 10,
   "id": "92eaae7a",
   "metadata": {
    "ExecuteTime": {
     "end_time": "2023-06-11T12:39:16.363130Z",
     "start_time": "2023-06-11T12:39:16.354435Z"
    }
   },
   "outputs": [
    {
     "data": {
      "text/plain": [
       "69"
      ]
     },
     "execution_count": 10,
     "metadata": {},
     "output_type": "execute_result"
    }
   ],
   "source": [
    "n3"
   ]
  },
  {
   "cell_type": "markdown",
   "id": "fd767b8d",
   "metadata": {},
   "source": [
    "6.Скільки цілих разів поміститься число 89 в 11283? (Або що те саме: який буде результат цілочисельного ділення 11283 на 89?)"
   ]
  },
  {
   "cell_type": "code",
   "execution_count": 11,
   "id": "90beef04",
   "metadata": {
    "ExecuteTime": {
     "end_time": "2023-06-11T12:39:56.603819Z",
     "start_time": "2023-06-11T12:39:56.589510Z"
    }
   },
   "outputs": [],
   "source": [
    "n4 = n1 // n2"
   ]
  },
  {
   "cell_type": "code",
   "execution_count": 12,
   "id": "c3f4d14d",
   "metadata": {
    "ExecuteTime": {
     "end_time": "2023-06-11T12:40:10.454847Z",
     "start_time": "2023-06-11T12:40:10.443261Z"
    }
   },
   "outputs": [
    {
     "data": {
      "text/plain": [
       "126"
      ]
     },
     "execution_count": 12,
     "metadata": {},
     "output_type": "execute_result"
    }
   ],
   "source": [
    "n4"
   ]
  },
  {
   "cell_type": "markdown",
   "id": "3897b863",
   "metadata": {
    "ExecuteTime": {
     "end_time": "2022-10-15T22:38:58.278123Z",
     "start_time": "2022-10-15T22:38:58.274895Z"
    },
    "pycharm": {
     "name": "#%% md\n"
    }
   },
   "source": [
    "# Робота з рядками"
   ]
  },
  {
   "cell_type": "markdown",
   "id": "afcde11d",
   "metadata": {
    "pycharm": {
     "name": "#%% md\n"
    }
   },
   "source": [
    "7.Запишіть у змінну `name` ваше імʼя."
   ]
  },
  {
   "cell_type": "code",
   "execution_count": 13,
   "id": "eb7d7aea",
   "metadata": {
    "ExecuteTime": {
     "end_time": "2023-06-11T12:41:47.427579Z",
     "start_time": "2023-06-11T12:41:47.419730Z"
    },
    "pycharm": {
     "name": "#%%\n"
    }
   },
   "outputs": [],
   "source": [
    "name = 'Kate'"
   ]
  },
  {
   "cell_type": "markdown",
   "id": "90953367",
   "metadata": {
    "pycharm": {
     "name": "#%% md\n"
    }
   },
   "source": [
    "8.Запишіть у змінну `surname` ваше прізвище."
   ]
  },
  {
   "cell_type": "code",
   "execution_count": 15,
   "id": "f42850ef",
   "metadata": {
    "ExecuteTime": {
     "end_time": "2023-06-11T12:43:09.465177Z",
     "start_time": "2023-06-11T12:43:09.453507Z"
    },
    "pycharm": {
     "name": "#%%\n"
    }
   },
   "outputs": [],
   "source": [
    "surname = 'Stavrova'"
   ]
  },
  {
   "cell_type": "markdown",
   "id": "0f64a68d",
   "metadata": {
    "pycharm": {
     "name": "#%% md\n"
    }
   },
   "source": [
    "9.Сконкатенуйте імʼя та прізвище в одну фразу через пробіл. Запишіть результат у нову змінну `name_surname` та виведіть результат на екран.  "
   ]
  },
  {
   "cell_type": "code",
   "execution_count": 22,
   "id": "26a28a8f",
   "metadata": {
    "ExecuteTime": {
     "end_time": "2023-06-11T12:45:33.365183Z",
     "start_time": "2023-06-11T12:45:33.343583Z"
    },
    "pycharm": {
     "name": "#%%\n"
    }
   },
   "outputs": [],
   "source": [
    "name_surname = name + \" \" + surname"
   ]
  },
  {
   "cell_type": "code",
   "execution_count": 23,
   "id": "13589a7b",
   "metadata": {
    "ExecuteTime": {
     "end_time": "2023-06-11T12:45:34.983485Z",
     "start_time": "2023-06-11T12:45:34.969371Z"
    }
   },
   "outputs": [
    {
     "data": {
      "text/plain": [
       "'Kate Stavrova'"
      ]
     },
     "execution_count": 23,
     "metadata": {},
     "output_type": "execute_result"
    }
   ],
   "source": [
    "name_surname"
   ]
  },
  {
   "cell_type": "markdown",
   "id": "ec6b8f00",
   "metadata": {
    "pycharm": {
     "name": "#%% md\n"
    }
   },
   "source": [
    "Очікувана відповідь (тільки з вашими даними): 'Hanna Pylieva' "
   ]
  },
  {
   "cell_type": "markdown",
   "id": "43d8b7c5",
   "metadata": {
    "pycharm": {
     "name": "#%% md\n"
    }
   },
   "source": [
    "10.Зробіть усі літери змінної `name_surname` заглавними використовуючи метод рядків в Python:"
   ]
  },
  {
   "cell_type": "code",
   "execution_count": 25,
   "id": "6c7f48a3",
   "metadata": {
    "ExecuteTime": {
     "end_time": "2023-06-11T12:46:28.408880Z",
     "start_time": "2023-06-11T12:46:28.399852Z"
    },
    "pycharm": {
     "name": "#%%\n"
    }
   },
   "outputs": [
    {
     "data": {
      "text/plain": [
       "'KATE STAVROVA'"
      ]
     },
     "execution_count": 25,
     "metadata": {},
     "output_type": "execute_result"
    }
   ],
   "source": [
    "name_surname.upper()"
   ]
  },
  {
   "cell_type": "markdown",
   "id": "d7f1c621",
   "metadata": {
    "pycharm": {
     "name": "#%% md\n"
    }
   },
   "source": [
    "Очікувана відповідь (тільки з вашими даними): 'HANNA PYLIEVA'"
   ]
  },
  {
   "cell_type": "markdown",
   "id": "011ebec4",
   "metadata": {
    "pycharm": {
     "name": "#%% md\n"
    }
   },
   "source": [
    "11.Виведіть третю літеру вашого `name_surname`. Тут уважно, треба саме третя літера. Згадайте, з якого значення починається індексування значень в Python."
   ]
  },
  {
   "cell_type": "code",
   "execution_count": 26,
   "id": "ba3503a0",
   "metadata": {
    "ExecuteTime": {
     "end_time": "2023-06-11T12:48:01.881861Z",
     "start_time": "2023-06-11T12:48:01.871441Z"
    },
    "pycharm": {
     "name": "#%%\n"
    }
   },
   "outputs": [
    {
     "data": {
      "text/plain": [
       "'t'"
      ]
     },
     "execution_count": 26,
     "metadata": {},
     "output_type": "execute_result"
    }
   ],
   "source": [
    "name_surname [2]"
   ]
  },
  {
   "cell_type": "markdown",
   "id": "ef94e305",
   "metadata": {
    "pycharm": {
     "name": "#%% md\n"
    }
   },
   "source": [
    "Очікувана відповідь (тільки з вашими даними): 'n'"
   ]
  },
  {
   "cell_type": "markdown",
   "id": "2235db2f",
   "metadata": {
    "pycharm": {
     "name": "#%% md\n"
    }
   },
   "source": [
    "12.Виведіть першу та останню літеру вашого прізвища."
   ]
  },
  {
   "cell_type": "code",
   "execution_count": 68,
   "id": "b43cc8b1",
   "metadata": {
    "ExecuteTime": {
     "end_time": "2023-06-11T13:23:01.779337Z",
     "start_time": "2023-06-11T13:23:01.767545Z"
    },
    "pycharm": {
     "name": "#%%\n"
    }
   },
   "outputs": [
    {
     "data": {
      "text/plain": [
       "('S', [7])"
      ]
     },
     "execution_count": 68,
     "metadata": {},
     "output_type": "execute_result"
    }
   ],
   "source": [
    "surname [0], [7]\n",
    "\n",
    "# не можу виконати це завдання, нагадайте будь ласка як виводити певні індекси"
   ]
  },
  {
   "cell_type": "markdown",
   "id": "87d42ed9",
   "metadata": {
    "pycharm": {
     "name": "#%% md\n"
    }
   },
   "source": [
    "Очікувана відповідь (тільки з вашими даними): ('P', 'a')"
   ]
  },
  {
   "cell_type": "markdown",
   "id": "7f9db34e",
   "metadata": {
    "pycharm": {
     "name": "#%% md\n"
    }
   },
   "source": [
    "13.Виведіть довжину вашого прізвища."
   ]
  },
  {
   "cell_type": "code",
   "execution_count": 53,
   "id": "387cbbb7",
   "metadata": {
    "ExecuteTime": {
     "end_time": "2023-06-11T13:07:28.454192Z",
     "start_time": "2023-06-11T13:07:28.445065Z"
    },
    "pycharm": {
     "name": "#%%\n"
    }
   },
   "outputs": [
    {
     "data": {
      "text/plain": [
       "8"
      ]
     },
     "execution_count": 53,
     "metadata": {},
     "output_type": "execute_result"
    }
   ],
   "source": [
    "len(surname)"
   ]
  },
  {
   "cell_type": "markdown",
   "id": "790f6782",
   "metadata": {
    "pycharm": {
     "name": "#%% md\n"
    }
   },
   "source": [
    "Очікувана відповідь (тільки з вашими даними): 7"
   ]
  },
  {
   "cell_type": "markdown",
   "id": "8e523b56",
   "metadata": {
    "pycharm": {
     "name": "#%% md\n"
    }
   },
   "source": [
    "14.Виведіть кількість літер `a` у столиці Мадагаскару `Antananarivo`. Важливо врахувати всі літери, як великі, так і маленькі."
   ]
  },
  {
   "cell_type": "code",
   "execution_count": 80,
   "id": "d7659196",
   "metadata": {
    "ExecuteTime": {
     "end_time": "2023-06-11T13:29:00.293461Z",
     "start_time": "2023-06-11T13:29:00.284830Z"
    },
    "pycharm": {
     "name": "#%%\n"
    }
   },
   "outputs": [
    {
     "data": {
      "text/plain": [
       "3"
      ]
     },
     "execution_count": 80,
     "metadata": {},
     "output_type": "execute_result"
    }
   ],
   "source": [
    "capital = 'Antananarivo' \n",
    "capital.count('a') "
   ]
  },
  {
   "cell_type": "code",
   "execution_count": 81,
   "id": "af43828c",
   "metadata": {
    "ExecuteTime": {
     "end_time": "2023-06-11T13:29:14.191561Z",
     "start_time": "2023-06-11T13:29:14.171332Z"
    }
   },
   "outputs": [
    {
     "data": {
      "text/plain": [
       "1"
      ]
     },
     "execution_count": 81,
     "metadata": {},
     "output_type": "execute_result"
    }
   ],
   "source": [
    "c1 = 3 \n",
    "capital.count('A')"
   ]
  },
  {
   "cell_type": "code",
   "execution_count": 82,
   "id": "e2172bfa",
   "metadata": {
    "ExecuteTime": {
     "end_time": "2023-06-11T13:29:33.605799Z",
     "start_time": "2023-06-11T13:29:33.595022Z"
    }
   },
   "outputs": [],
   "source": [
    "c2 = 1"
   ]
  },
  {
   "cell_type": "code",
   "execution_count": 83,
   "id": "d121aec7",
   "metadata": {
    "ExecuteTime": {
     "end_time": "2023-06-11T13:29:47.555633Z",
     "start_time": "2023-06-11T13:29:47.543197Z"
    }
   },
   "outputs": [],
   "source": [
    "c3 = c1 + c2"
   ]
  },
  {
   "cell_type": "code",
   "execution_count": 84,
   "id": "e510025b",
   "metadata": {
    "ExecuteTime": {
     "end_time": "2023-06-11T13:29:59.024236Z",
     "start_time": "2023-06-11T13:29:59.010964Z"
    }
   },
   "outputs": [
    {
     "data": {
      "text/plain": [
       "4"
      ]
     },
     "execution_count": 84,
     "metadata": {},
     "output_type": "execute_result"
    }
   ],
   "source": [
    "c3"
   ]
  },
  {
   "cell_type": "markdown",
   "id": "5f135ecb",
   "metadata": {
    "pycharm": {
     "name": "#%% md\n"
    }
   },
   "source": [
    "Очікувана відповідь: 4"
   ]
  },
  {
   "cell_type": "markdown",
   "id": "bc4ef75d",
   "metadata": {
    "ExecuteTime": {
     "end_time": "2023-05-28T22:53:18.824389Z",
     "start_time": "2023-05-28T22:53:18.816117Z"
    }
   },
   "source": [
    "15.Створіть рядок `my_string` зі значенням: \"The quick brown fox jumps over the lazy dog!!!\".   \n",
    "Перевірте, чи починається рядок `my_string` з \"The\" і чи закінчується він \"dog!\". Виведіть результати на екран."
   ]
  },
  {
   "cell_type": "code",
   "execution_count": 85,
   "id": "777a732f",
   "metadata": {
    "ExecuteTime": {
     "end_time": "2023-06-11T13:31:08.038670Z",
     "start_time": "2023-06-11T13:31:08.023462Z"
    }
   },
   "outputs": [],
   "source": [
    "my_string = 'The quick brown fox jumps over the lazy dog!!!'"
   ]
  },
  {
   "cell_type": "code",
   "execution_count": 103,
   "id": "56c3bc67",
   "metadata": {
    "ExecuteTime": {
     "end_time": "2023-06-11T13:43:22.479630Z",
     "start_time": "2023-06-11T13:43:22.463658Z"
    }
   },
   "outputs": [
    {
     "data": {
      "text/plain": [
       "True"
      ]
     },
     "execution_count": 103,
     "metadata": {},
     "output_type": "execute_result"
    }
   ],
   "source": [
    "my_string.startswith('The')"
   ]
  },
  {
   "cell_type": "code",
   "execution_count": 105,
   "id": "6d302bba",
   "metadata": {
    "ExecuteTime": {
     "end_time": "2023-06-11T13:44:08.158191Z",
     "start_time": "2023-06-11T13:44:08.142782Z"
    }
   },
   "outputs": [
    {
     "data": {
      "text/plain": [
       "False"
      ]
     },
     "execution_count": 105,
     "metadata": {},
     "output_type": "execute_result"
    }
   ],
   "source": [
    "my_string.endswith('dog')"
   ]
  },
  {
   "cell_type": "markdown",
   "id": "9a6ff29d",
   "metadata": {},
   "source": [
    "16.Розділіть рядок `my_string` на список слів, а потім з'єднайте всі слова через нижнє підкреслювання. Виведіть результат на екран."
   ]
  },
  {
   "cell_type": "code",
   "execution_count": 106,
   "id": "c4418f36",
   "metadata": {
    "ExecuteTime": {
     "end_time": "2023-06-11T13:46:06.615000Z",
     "start_time": "2023-06-11T13:46:06.604512Z"
    }
   },
   "outputs": [
    {
     "data": {
      "text/plain": [
       "['The', 'quick', 'brown', 'fox', 'jumps', 'over', 'the', 'lazy', 'dog!!!']"
      ]
     },
     "execution_count": 106,
     "metadata": {},
     "output_type": "execute_result"
    }
   ],
   "source": [
    "my_string.split()"
   ]
  },
  {
   "cell_type": "code",
   "execution_count": 107,
   "id": "6fbe80e9",
   "metadata": {
    "ExecuteTime": {
     "end_time": "2023-06-11T13:48:43.715026Z",
     "start_time": "2023-06-11T13:48:43.702165Z"
    }
   },
   "outputs": [
    {
     "name": "stdout",
     "output_type": "stream",
     "text": [
      "The_quick_brown_fox_jumps_over_the_lazy_dog!!!\n"
     ]
    }
   ],
   "source": [
    "print ('_'.join(['The', 'quick', 'brown', 'fox', 'jumps', 'over', 'the', 'lazy', 'dog!!!']))"
   ]
  },
  {
   "cell_type": "markdown",
   "id": "3cc7a574",
   "metadata": {},
   "source": [
    "Очікуваний результат: `The_quick_brown_fox_jumps_over_the_lazy_dog!!!`"
   ]
  },
  {
   "cell_type": "markdown",
   "id": "fea0a36c",
   "metadata": {
    "pycharm": {
     "name": "#%% md\n"
    }
   },
   "source": [
    "# Робота зі колекціями"
   ]
  },
  {
   "cell_type": "markdown",
   "id": "f426396e",
   "metadata": {
    "pycharm": {
     "name": "#%% md\n"
    }
   },
   "source": [
    "У нас є наступний список:"
   ]
  },
  {
   "cell_type": "code",
   "execution_count": 222,
   "id": "09b96b5e",
   "metadata": {
    "ExecuteTime": {
     "end_time": "2023-06-11T15:45:03.009796Z",
     "start_time": "2023-06-11T15:45:02.996804Z"
    },
    "pycharm": {
     "name": "#%%\n"
    }
   },
   "outputs": [],
   "source": [
    "my_list = [\n",
    "    78, 12, 14, 27, 47, 28, 51, 46, 94, 37, 42, 20, 52, 33, 11, 11, 51,\n",
    "    20, 81, 54, 86, 51, 38, 42, 49, 99, 76, 17,  9, 23, 97, 29, 29, 63,\n",
    "    40, 11, 31, 76, 15, 21, 29, 75, 35,  2, 10, 71, 17, 10, 13,  7, 44,\n",
    "    12, 19, 61, 13, 25, 62, 46, 10, 44, 75, 57, 20, 57,  3, 44, 16, 28,\n",
    "    79, 57, 62, 70, 95,  8, 47, 82, 80, 45, 36, 44, 79, 95, 73, 42, 29,\n",
    "    83, 80, 66, 56,  8, 73,  5, 99, 65, 65, 98, 17, 36, 16, 60\n",
    "]"
   ]
  },
  {
   "cell_type": "markdown",
   "id": "67feb747",
   "metadata": {
    "pycharm": {
     "name": "#%% md\n"
    }
   },
   "source": [
    "Будемо з ним працювати в наступних завданнях."
   ]
  },
  {
   "cell_type": "markdown",
   "id": "eb094b99",
   "metadata": {
    "pycharm": {
     "name": "#%% md\n"
    }
   },
   "source": [
    "17.Виведіть 5 перших елементів списку `my_list` з допомогою слайсингу."
   ]
  },
  {
   "cell_type": "code",
   "execution_count": 118,
   "id": "c4305c46",
   "metadata": {
    "ExecuteTime": {
     "end_time": "2023-06-11T13:51:35.602078Z",
     "start_time": "2023-06-11T13:51:35.581219Z"
    },
    "pycharm": {
     "name": "#%%\n"
    }
   },
   "outputs": [
    {
     "data": {
      "text/plain": [
       "[78, 12, 14, 27, 47]"
      ]
     },
     "execution_count": 118,
     "metadata": {},
     "output_type": "execute_result"
    }
   ],
   "source": [
    "my_list[:5]"
   ]
  },
  {
   "cell_type": "markdown",
   "id": "006c0660",
   "metadata": {
    "pycharm": {
     "name": "#%% md\n"
    }
   },
   "source": [
    "Очікувана відповідь: [78, 12, 14, 27, 47]"
   ]
  },
  {
   "cell_type": "markdown",
   "id": "1c21c060",
   "metadata": {
    "ExecuteTime": {
     "end_time": "2023-05-28T22:46:26.546845Z",
     "start_time": "2023-05-28T22:46:26.540558Z"
    }
   },
   "source": [
    "18.Виведіть 3 останніх елементи списку `my_list` з допомогою слайсингу."
   ]
  },
  {
   "cell_type": "code",
   "execution_count": 123,
   "id": "372d8677",
   "metadata": {
    "ExecuteTime": {
     "end_time": "2023-06-11T13:55:43.902622Z",
     "start_time": "2023-06-11T13:55:43.886865Z"
    }
   },
   "outputs": [
    {
     "data": {
      "text/plain": [
       "[98, 17, 36, 16, 60]"
      ]
     },
     "execution_count": 123,
     "metadata": {},
     "output_type": "execute_result"
    }
   ],
   "source": [
    "my_list[-5:]"
   ]
  },
  {
   "cell_type": "markdown",
   "id": "83c97a7c",
   "metadata": {
    "pycharm": {
     "name": "#%% md\n"
    }
   },
   "source": [
    "19.Виведіть максимальний і мінімальний елемент у списку. Сформуйте відповідь у наступному форматі\n",
    "```\n",
    "Max element  <число>\n",
    "Min element  <число>\n",
    "```"
   ]
  },
  {
   "cell_type": "code",
   "execution_count": 124,
   "id": "9ba760c8",
   "metadata": {
    "ExecuteTime": {
     "end_time": "2023-06-11T13:56:47.881226Z",
     "start_time": "2023-06-11T13:56:47.866880Z"
    },
    "pycharm": {
     "name": "#%%\n"
    }
   },
   "outputs": [
    {
     "data": {
      "text/plain": [
       "(99, 2)"
      ]
     },
     "execution_count": 124,
     "metadata": {},
     "output_type": "execute_result"
    }
   ],
   "source": [
    "max(my_list), min(my_list)"
   ]
  },
  {
   "cell_type": "code",
   "execution_count": 145,
   "id": "6dc95603",
   "metadata": {
    "ExecuteTime": {
     "end_time": "2023-06-11T14:02:43.667137Z",
     "start_time": "2023-06-11T14:02:43.655123Z"
    }
   },
   "outputs": [
    {
     "data": {
      "text/plain": [
       "'Max element 99'"
      ]
     },
     "metadata": {},
     "output_type": "display_data"
    },
    {
     "data": {
      "text/plain": [
       "'Min element 2'"
      ]
     },
     "metadata": {},
     "output_type": "display_data"
    }
   ],
   "source": [
    "display('Max element 99', 'Min element 2')"
   ]
  },
  {
   "cell_type": "markdown",
   "id": "ab633a25",
   "metadata": {
    "pycharm": {
     "name": "#%% md\n"
    }
   },
   "source": [
    "Очікувана відповідь: \n",
    "\n",
    "```\n",
    "Max element  99\n",
    "Min element  2\n",
    "```"
   ]
  },
  {
   "cell_type": "markdown",
   "id": "a1c592ca",
   "metadata": {
    "pycharm": {
     "name": "#%% md\n"
    }
   },
   "source": [
    "20.Створіть новий список `my_list_2`, який містить кожен 11-й елемент списку `my_list`. Виведіть `my_list_2` на екран.  \n",
    "Памʼятаємо, що перший з \"кожного одинадцятого елементу\" списку має індекс 10.\n",
    "Це завдання можна виконати як з використанням циклів, так і з використанням слайсингу."
   ]
  },
  {
   "cell_type": "code",
   "execution_count": 146,
   "id": "a3ae75e9",
   "metadata": {
    "ExecuteTime": {
     "end_time": "2023-06-11T14:06:28.073239Z",
     "start_time": "2023-06-11T14:06:28.061394Z"
    },
    "pycharm": {
     "name": "#%%\n"
    }
   },
   "outputs": [
    {
     "data": {
      "text/plain": [
       "100"
      ]
     },
     "execution_count": 146,
     "metadata": {},
     "output_type": "execute_result"
    }
   ],
   "source": [
    "len(my_list)"
   ]
  },
  {
   "cell_type": "code",
   "execution_count": 184,
   "id": "c8ac4b8e",
   "metadata": {
    "ExecuteTime": {
     "end_time": "2023-06-11T14:41:39.789318Z",
     "start_time": "2023-06-11T14:41:39.771367Z"
    }
   },
   "outputs": [],
   "source": [
    "my_list_2 = my_list[10:100:11]"
   ]
  },
  {
   "cell_type": "code",
   "execution_count": 185,
   "id": "4dd8d8a5",
   "metadata": {
    "ExecuteTime": {
     "end_time": "2023-06-11T14:41:41.445246Z",
     "start_time": "2023-06-11T14:41:41.426299Z"
    }
   },
   "outputs": [
    {
     "data": {
      "text/plain": [
       "[42, 51, 29, 2, 13, 44, 80, 66, 16]"
      ]
     },
     "execution_count": 185,
     "metadata": {},
     "output_type": "execute_result"
    }
   ],
   "source": [
    "my_list_2"
   ]
  },
  {
   "cell_type": "markdown",
   "id": "b0f71719",
   "metadata": {
    "ExecuteTime": {
     "end_time": "2023-01-20T20:10:37.303981Z",
     "start_time": "2023-01-20T20:10:37.275706Z"
    },
    "pycharm": {
     "name": "#%%\n"
    }
   },
   "source": [
    "Очікуваний результат: `[42, 51, 29, 2, 13, 44, 80, 66, 16]`"
   ]
  },
  {
   "cell_type": "markdown",
   "id": "f867682d",
   "metadata": {},
   "source": [
    "## ВИ - МОЛОДЕЦЬ! ЗРОБИЛИ 20 ЗАВДАНЬ!\n",
    "Далі завдання будуть трохи складніше. Деколи в завданнях треба буде написати цикл або list comprehension. Але я впевнена, що у Вас все вийде!"
   ]
  },
  {
   "cell_type": "markdown",
   "id": "036f1475",
   "metadata": {
    "pycharm": {
     "name": "#%% md\n"
    }
   },
   "source": [
    "21.Створіть новий список `my_list_2_squared`, де кожен елемент списку `my_list_2` є піднесеним до степіня 2. "
   ]
  },
  {
   "cell_type": "code",
   "execution_count": 226,
   "id": "e6441088",
   "metadata": {
    "ExecuteTime": {
     "end_time": "2023-06-11T16:08:20.734188Z",
     "start_time": "2023-06-11T16:08:20.725212Z"
    }
   },
   "outputs": [
    {
     "name": "stdout",
     "output_type": "stream",
     "text": [
      "1764\n",
      "2601\n",
      "841\n",
      "4\n",
      "169\n",
      "1936\n",
      "6400\n",
      "4356\n",
      "256\n"
     ]
    }
   ],
   "source": [
    "for my_list_2_squared in my_list_2:\n",
    "    print(my_list_2_squared ** 2)"
   ]
  },
  {
   "cell_type": "markdown",
   "id": "271c0fe1",
   "metadata": {
    "pycharm": {
     "name": "#%% md\n"
    }
   },
   "source": [
    "Очікуваний результат: `[1764, 2601, 841, 4, 169, 1936, 6400, 4356, 256]`"
   ]
  },
  {
   "cell_type": "markdown",
   "id": "848c8fca",
   "metadata": {
    "pycharm": {
     "name": "#%% md\n"
    }
   },
   "source": [
    "22.Знайдіть суму всіх елементів списку `my_list_2` та виведіть її на екран."
   ]
  },
  {
   "cell_type": "code",
   "execution_count": 187,
   "id": "d6debf2c",
   "metadata": {
    "ExecuteTime": {
     "end_time": "2023-06-11T14:41:47.731999Z",
     "start_time": "2023-06-11T14:41:47.714047Z"
    },
    "pycharm": {
     "name": "#%%\n"
    }
   },
   "outputs": [
    {
     "data": {
      "text/plain": [
       "343"
      ]
     },
     "execution_count": 187,
     "metadata": {},
     "output_type": "execute_result"
    }
   ],
   "source": [
    "sum(my_list_2)"
   ]
  },
  {
   "cell_type": "markdown",
   "id": "4ba6afc3",
   "metadata": {
    "pycharm": {
     "name": "#%% md\n"
    }
   },
   "source": [
    "23.Знайдіть середнє значення елементів списку `my_list_2`, збережіть результат у змінну `my_list_2_mean`. Виведіть новостворену змінну та ії тип на екран.\n",
    "**Підказка**: середнє значення - це сума елементів поділена на їх кількість. А кількість елементів в списку - це його довжина."
   ]
  },
  {
   "cell_type": "code",
   "execution_count": 190,
   "id": "d02c2e4d",
   "metadata": {
    "ExecuteTime": {
     "end_time": "2023-06-11T14:42:34.524802Z",
     "start_time": "2023-06-11T14:42:34.512866Z"
    }
   },
   "outputs": [
    {
     "data": {
      "text/plain": [
       "9"
      ]
     },
     "execution_count": 190,
     "metadata": {},
     "output_type": "execute_result"
    }
   ],
   "source": [
    "len(my_list_2)"
   ]
  },
  {
   "cell_type": "code",
   "execution_count": 188,
   "id": "1f94875a",
   "metadata": {
    "ExecuteTime": {
     "end_time": "2023-06-11T14:41:54.980171Z",
     "start_time": "2023-06-11T14:41:54.963216Z"
    },
    "pycharm": {
     "name": "#%%\n"
    }
   },
   "outputs": [],
   "source": [
    "my_list_2_mean = sum(my_list_2) / 9"
   ]
  },
  {
   "cell_type": "code",
   "execution_count": 189,
   "id": "3028e43b",
   "metadata": {
    "ExecuteTime": {
     "end_time": "2023-06-11T14:42:04.692385Z",
     "start_time": "2023-06-11T14:42:04.676410Z"
    }
   },
   "outputs": [
    {
     "data": {
      "text/plain": [
       "38.111111111111114"
      ]
     },
     "execution_count": 189,
     "metadata": {},
     "output_type": "execute_result"
    }
   ],
   "source": [
    "my_list_2_mean"
   ]
  },
  {
   "cell_type": "markdown",
   "id": "3cd99e45",
   "metadata": {
    "pycharm": {
     "name": "#%% md\n"
    }
   },
   "source": [
    "24.Створіть новий список `my_list_2_gt_mean`, за наступним правилом: \"якщо цей елемент спиcку `my_list_2` є більше за `my_list_2_mean`, то запишемо 1, інакше 0. Виведіть новий список на екран."
   ]
  },
  {
   "cell_type": "code",
   "execution_count": 217,
   "id": "cf197808",
   "metadata": {
    "ExecuteTime": {
     "end_time": "2023-06-11T15:30:26.526916Z",
     "start_time": "2023-06-11T15:30:26.501982Z"
    },
    "pycharm": {
     "name": "#%%\n"
    }
   },
   "outputs": [
    {
     "name": "stdout",
     "output_type": "stream",
     "text": [
      "1\n",
      "1\n",
      "0\n",
      "0\n",
      "0\n",
      "1\n",
      "1\n",
      "1\n",
      "0\n"
     ]
    }
   ],
   "source": [
    "my_list_2_gt_mean = []\n",
    "if my_list_2[0] > my_list_2_mean:\n",
    "    print(1)\n",
    "else:\n",
    "    print(0) \n",
    "if my_list_2[1] > my_list_2_mean:\n",
    "    print(1)\n",
    "else:\n",
    "    if my_list_2[1] < my_list_2_mean: \n",
    "        print(0) \n",
    "if my_list_2[2] > my_list_2_mean:\n",
    "    print(1)\n",
    "else:\n",
    "    if my_list_2[2] < my_list_2_mean: \n",
    "        print(0)\n",
    "if my_list_2[3] > my_list_2_mean:\n",
    "    print(1)\n",
    "else:\n",
    "    if my_list_2[3] < my_list_2_mean: \n",
    "        print(0) \n",
    "if my_list_2[4] > my_list_2_mean:\n",
    "    print(1)\n",
    "else:\n",
    "    if my_list_2[4] < my_list_2_mean: \n",
    "        print(0) \n",
    "if my_list_2[5] > my_list_2_mean:\n",
    "    print(1)\n",
    "else:\n",
    "    if my_list_2[5] < my_list_2_mean: \n",
    "        print(0) \n",
    "if my_list_2[6] > my_list_2_mean:\n",
    "    print(1)\n",
    "else:\n",
    "    if my_list_2[6] < my_list_2_mean: \n",
    "        print(0) \n",
    "if my_list_2[7] > my_list_2_mean:\n",
    "    print(1)\n",
    "else:\n",
    "    if my_list_2[7] < my_list_2_mean: \n",
    "        print(0) \n",
    "if my_list_2[8] > my_list_2_mean:\n",
    "    print(1)\n",
    "else:\n",
    "    if my_list_2[8] < my_list_2_mean: \n",
    "        print(0)"
   ]
  },
  {
   "cell_type": "code",
   "execution_count": 214,
   "id": "802805b9",
   "metadata": {
    "ExecuteTime": {
     "end_time": "2023-06-11T15:15:31.126896Z",
     "start_time": "2023-06-11T15:15:31.113938Z"
    }
   },
   "outputs": [
    {
     "data": {
      "text/plain": [
       "[]"
      ]
     },
     "execution_count": 214,
     "metadata": {},
     "output_type": "execute_result"
    }
   ],
   "source": [
    "my_list_2_gt_mean"
   ]
  },
  {
   "cell_type": "markdown",
   "id": "c2957611",
   "metadata": {},
   "source": [
    "Очікуваний результат: `[1, 1, 0, 0, 0, 1, 1, 1, 0]`"
   ]
  },
  {
   "cell_type": "markdown",
   "id": "459fd7da",
   "metadata": {
    "pycharm": {
     "name": "#%% md\n"
    }
   },
   "source": [
    "25.Чи є в списку `my_list` елементи, які повторюються? Перевірте це програмно і з допомогою інструкцій `if ... else` виведіть на екран відповідь \"Так, є елементи, які повторюються\", або \"Ні, всі елементи унікальні\".\n",
    "Важливо це зробити без використання імпортів будь-яких бібліотек, на чистому Python так би мовити."
   ]
  },
  {
   "cell_type": "markdown",
   "id": "73249a57",
   "metadata": {
    "pycharm": {
     "name": "#%% md\n"
    }
   },
   "source": [
    "26.Для кожного унікального елементу списку `my_list` знайдіть, скільки разів він повторюється, та запишіть сукупний результат для всіх елементів (тобто скільки разів повторюється кожен елемент) у змінну `n_repeats`. Виведіть `n_repeats` на екран. \n",
    "\n",
    "**Підказка**: `n_repeats` матиме тип \"словник\". Порядок ключів в словнику не має значення! Тобто ключі в словнику не обовʼязково мають бути в тому ж порядку, як наведено в прикладі результату. Але кількості зустрічань для кожного елемента мають співпадати з наведеними. "
   ]
  },
  {
   "cell_type": "code",
   "execution_count": null,
   "id": "14ef29d6",
   "metadata": {},
   "outputs": [],
   "source": []
  },
  {
   "cell_type": "markdown",
   "id": "004a00f9",
   "metadata": {
    "pycharm": {
     "name": "#%% md\n"
    }
   },
   "source": [
    "Очікуваний результат (три крапки - для скорочення, у вас буде виведений повний набір унікальних елементів): \n",
    "```\n",
    "{2: 1, 3: 1, 5: 1, 7: 1, 8: 2, 9: 1, 10: 3, 11: 3, 12: 2, 13: 2, 14: 1, 15: 1, 16: 2, 17: 3, 19: 1, 20: 3, 21: 1, 23: 1, 25: 1, 27: 1, 28: 2, 29: 4, 31: 1, 33: 1, 35: 1, 36: 2, 37: 1, 38: 1, 40: 1, 42: 3, 44: 4, 45: 1, 46: 2, 47: 2, 49: 1, 51: 3, 52: 1, 54: 1, 56: 1, 57: 3, 60: 1, 61: 1, 62: 2, 63: 1, 65: 2, 66: 1, 70: 1, 71: 1, 73: 2, 75: 2, 76: 2, 78: 1, 79: 2, 80: 2, 81: 1, 82: 1, 83: 1, 86: 1, 94: 1, 95: 2, 97: 1, 98: 1, 99: 2}\n",
    "```"
   ]
  },
  {
   "cell_type": "markdown",
   "id": "2c10baf0",
   "metadata": {
    "pycharm": {
     "name": "#%% md\n"
    }
   },
   "source": [
    "27.Знайдіть три найменші **унікальні** елементи в списку `my_list`. Збережіть знайдені елементи в змінну `least_3_my_list`. Виведіть значення змінної `least_3_my_list` на екран."
   ]
  },
  {
   "cell_type": "code",
   "execution_count": null,
   "id": "37c6c6b2",
   "metadata": {},
   "outputs": [],
   "source": []
  },
  {
   "cell_type": "markdown",
   "id": "d99999bd",
   "metadata": {
    "pycharm": {
     "name": "#%% md\n"
    }
   },
   "source": [
    "Очікувана відповідь: [2, 3, 5]\n"
   ]
  },
  {
   "cell_type": "markdown",
   "id": "a9c79835",
   "metadata": {
    "pycharm": {
     "name": "#%% md\n"
    }
   },
   "source": [
    "# Ураа!! Ви завершили перше домашнє завдання!!!  \n",
    "Аби здати ДЗ - залийте ноутбук у гітхаб репозиторій, який ви створили у перші дні навчання на курсі, та додайте посилання на файл у відповідному завданні в Eduflow.\n",
    "Так тримати! 🚀🚀🚀"
   ]
  }
 ],
 "metadata": {
  "kernelspec": {
   "display_name": "Python 3 (ipykernel)",
   "language": "python",
   "name": "python3"
  },
  "language_info": {
   "codemirror_mode": {
    "name": "ipython",
    "version": 3
   },
   "file_extension": ".py",
   "mimetype": "text/x-python",
   "name": "python",
   "nbconvert_exporter": "python",
   "pygments_lexer": "ipython3",
   "version": "3.10.9"
  },
  "toc": {
   "base_numbering": 1,
   "nav_menu": {},
   "number_sections": true,
   "sideBar": true,
   "skip_h1_title": false,
   "title_cell": "Table of Contents",
   "title_sidebar": "Contents",
   "toc_cell": false,
   "toc_position": {},
   "toc_section_display": true,
   "toc_window_display": false
  }
 },
 "nbformat": 4,
 "nbformat_minor": 5
}
